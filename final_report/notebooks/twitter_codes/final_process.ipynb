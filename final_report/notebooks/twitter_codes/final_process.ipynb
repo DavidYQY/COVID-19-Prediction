{
 "cells": [
  {
   "cell_type": "code",
   "execution_count": 1,
   "metadata": {},
   "outputs": [],
   "source": [
    "import pandas as pd\n",
    "import numpy as np\n",
    "import seaborn as sns\n",
    "\n",
    "from matplotlib import pyplot\n",
    "import matplotlib.pylab as plt "
   ]
  },
  {
   "cell_type": "code",
   "execution_count": 5,
   "metadata": {},
   "outputs": [
    {
     "data": {
      "text/html": [
       "<div>\n",
       "<style scoped>\n",
       "    .dataframe tbody tr th:only-of-type {\n",
       "        vertical-align: middle;\n",
       "    }\n",
       "\n",
       "    .dataframe tbody tr th {\n",
       "        vertical-align: top;\n",
       "    }\n",
       "\n",
       "    .dataframe thead th {\n",
       "        text-align: right;\n",
       "    }\n",
       "</style>\n",
       "<table border=\"1\" class=\"dataframe\">\n",
       "  <thead>\n",
       "    <tr style=\"text-align: right;\">\n",
       "      <th></th>\n",
       "      <th>Chinawords</th>\n",
       "      <th>Italywords</th>\n",
       "      <th>USwords</th>\n",
       "      <th>Outbreakwords</th>\n",
       "      <th>date</th>\n",
       "      <th>str_date</th>\n",
       "      <th>twitter_number</th>\n",
       "    </tr>\n",
       "  </thead>\n",
       "  <tbody>\n",
       "    <tr>\n",
       "      <td>0</td>\n",
       "      <td>1</td>\n",
       "      <td>0</td>\n",
       "      <td>2</td>\n",
       "      <td>0</td>\n",
       "      <td>2020-01-21 22:00:00</td>\n",
       "      <td>01-21 22:00</td>\n",
       "      <td>68</td>\n",
       "    </tr>\n",
       "    <tr>\n",
       "      <td>1</td>\n",
       "      <td>4</td>\n",
       "      <td>0</td>\n",
       "      <td>2</td>\n",
       "      <td>0</td>\n",
       "      <td>2020-01-21 23:00:00</td>\n",
       "      <td>01-21 23:00</td>\n",
       "      <td>156</td>\n",
       "    </tr>\n",
       "    <tr>\n",
       "      <td>2</td>\n",
       "      <td>1</td>\n",
       "      <td>0</td>\n",
       "      <td>2</td>\n",
       "      <td>0</td>\n",
       "      <td>2020-01-22 00:00:00</td>\n",
       "      <td>01-22 00:00</td>\n",
       "      <td>129</td>\n",
       "    </tr>\n",
       "    <tr>\n",
       "      <td>3</td>\n",
       "      <td>0</td>\n",
       "      <td>0</td>\n",
       "      <td>1</td>\n",
       "      <td>0</td>\n",
       "      <td>2020-01-22 01:00:00</td>\n",
       "      <td>01-22 01:00</td>\n",
       "      <td>128</td>\n",
       "    </tr>\n",
       "    <tr>\n",
       "      <td>4</td>\n",
       "      <td>1</td>\n",
       "      <td>0</td>\n",
       "      <td>3</td>\n",
       "      <td>0</td>\n",
       "      <td>2020-01-22 02:00:00</td>\n",
       "      <td>01-22 02:00</td>\n",
       "      <td>243</td>\n",
       "    </tr>\n",
       "  </tbody>\n",
       "</table>\n",
       "</div>"
      ],
      "text/plain": [
       "   Chinawords  Italywords  USwords  Outbreakwords                date  \\\n",
       "0           1           0        2              0 2020-01-21 22:00:00   \n",
       "1           4           0        2              0 2020-01-21 23:00:00   \n",
       "2           1           0        2              0 2020-01-22 00:00:00   \n",
       "3           0           0        1              0 2020-01-22 01:00:00   \n",
       "4           1           0        3              0 2020-01-22 02:00:00   \n",
       "\n",
       "      str_date  twitter_number  \n",
       "0  01-21 22:00              68  \n",
       "1  01-21 23:00             156  \n",
       "2  01-22 00:00             129  \n",
       "3  01-22 01:00             128  \n",
       "4  01-22 02:00             243  "
      ]
     },
     "execution_count": 5,
     "metadata": {},
     "output_type": "execute_result"
    }
   ],
   "source": [
    "dat = pd.read_csv(\"twitter_release.csv\")\n",
    "dat['date'] = pd.to_datetime(dat['date'])\n",
    "dat.head()"
   ]
  },
  {
   "cell_type": "code",
   "execution_count": 9,
   "metadata": {},
   "outputs": [],
   "source": [
    "release = dat.groupby(dat['date'].dt.date).agg(sum).reset_index()\n",
    "release.to_csv(\"../twitter_0321.csv\")"
   ]
  }
 ],
 "metadata": {
  "kernelspec": {
   "display_name": "Python 3",
   "language": "python",
   "name": "python3"
  },
  "language_info": {
   "codemirror_mode": {
    "name": "ipython",
    "version": 3
   },
   "file_extension": ".py",
   "mimetype": "text/x-python",
   "name": "python",
   "nbconvert_exporter": "python",
   "pygments_lexer": "ipython3",
   "version": "3.7.4"
  }
 },
 "nbformat": 4,
 "nbformat_minor": 2
}
